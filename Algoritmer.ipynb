{
 "cells": [
  {
   "cell_type": "markdown",
   "metadata": {},
   "source": [
    "# likninger og algoritmer \n",
    "her skal vi se på ulike måter å løse likniinger på\n",
    "\n",
    "\n",
    "## Metode 1 : halveringsmetoden \n"
   ]
  },
  {
   "cell_type": "code",
   "execution_count": 13,
   "metadata": {},
   "outputs": [
    {
     "name": "stdout",
     "output_type": "stream",
     "text": [
      "x-startverdi-10\n",
      "x-sluttverdi10\n",
      "liknings løsning/x verdien når graf skjærer av x-aksen er: 3.0000000004656613 dette er hvor mange ganger jeg halverte: 32\n"
     ]
    }
   ],
   "source": [
    "def f (x):\n",
    "    return 2*x-6\n",
    "\n",
    "a = float(input(\"x-startverdi\"))\n",
    "b = float(input(\"x-sluttverdi\"))\n",
    "\n",
    "m = (a+b)/2\n",
    "\n",
    "teller = 0\n",
    "tol = 1E-9\n",
    "\n",
    "while abs(f(m))> tol: \n",
    "                        #abs()=absoluttverdi\n",
    "                        #helt til f(m)er lik null, altså når y er 0, skjærimg av x-aksen\n",
    "    if f(a)*f(m)<0:\n",
    "        b=m\n",
    "    if f(b)*f(m)<0:\n",
    "        a=m\n",
    "    m = (a+b)/2\n",
    "    teller = teller +1\n",
    "print(\"liknings løsning/x verdien når graf skjærer av x-aksen er:\",m, \"dette er hvor mange ganger jeg halverte:\", teller )"
   ]
  },
  {
   "cell_type": "markdown",
   "metadata": {},
   "source": [
    "## alt i en funksjon:\n"
   ]
  },
  {
   "cell_type": "code",
   "execution_count": null,
   "metadata": {},
   "outputs": [],
   "source": [
    "def f (x):\n",
    "    return 2*x-6\n",
    "\n",
    "#a = float(input(\"x-startverdi\"))\n",
    "#b = float(input(\"x-sluttverdi\"))\n",
    "\n",
    "def halveringsmetoden (a,b,m):\n",
    "    m = (a+b)/2\n",
    "\n",
    "    teller = 0\n",
    "    tol = 1E-9\n",
    "\n",
    "    while abs(f(m))> tol: \n",
    "                            #abs()=absoluttverdi\n",
    "                            #helt til f(m)er lik null, altså når y er 0, skjærimg av x-aksen\n",
    "        if f(a)*f(m)<0:\n",
    "            b=m\n",
    "        if f(b)*f(m)<0:\n",
    "            a=m\n",
    "        m = (a+b)/2\n",
    "        teller = teller +1\n",
    "        \n",
    "    return m,teller\n",
    "    \n",
    "nullpunkt, antall = halveringsmetoden(-5,10,f)\n",
    "print(\"Nullpunktet var:\", nullpunkt, \"og løkka kjørte\", antall,\"antall ganger\")\n",
    "#print (halveringsmetoden(a,b,m))     \n",
    "#print(\"liknings løsning/x verdien når graf skjærer av x-aksen er:\",m, \"dette er hvor mange ganger jeg halverte:\", teller )"
   ]
  },
  {
   "cell_type": "code",
   "execution_count": null,
   "metadata": {},
   "outputs": [],
   "source": []
  }
 ],
 "metadata": {
  "kernelspec": {
   "display_name": "Python 3",
   "language": "python",
   "name": "python3"
  },
  "language_info": {
   "codemirror_mode": {
    "name": "ipython",
    "version": 3
   },
   "file_extension": ".py",
   "mimetype": "text/x-python",
   "name": "python",
   "nbconvert_exporter": "python",
   "pygments_lexer": "ipython3",
   "version": "3.7.3"
  }
 },
 "nbformat": 4,
 "nbformat_minor": 2
}
