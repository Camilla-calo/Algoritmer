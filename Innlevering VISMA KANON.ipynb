{
 "cells": [
  {
   "cell_type": "markdown",
   "metadata": {},
   "source": [
    "# Likninger og algoritmer \n",
    "her skal vi se på ulike måter å løse likniinger på\n",
    "\n",
    "\n",
    "## Metode 1 : halveringsmetoden \n",
    "\n",
    "\n",
    "I halveringsmetoden tar vi utgangspunkt i to punkt A og B på graf som befinner seg på hver sin side av x-aksen og finner midtpunktet M mellom disse. Hvis M har negativ verdi(som A her) blir M vår nye A, og hvis M er positiv(som B her) blir m vår nye B. Gjentar denne prosessen så lenge ønsket. \n"
   ]
  },
  {
   "cell_type": "code",
   "execution_count": 13,
   "metadata": {},
   "outputs": [
    {
     "name": "stdout",
     "output_type": "stream",
     "text": [
      "x-startverdi-10\n",
      "x-sluttverdi10\n",
      "liknings løsning/x verdien når graf skjærer av x-aksen er: 3.0000000004656613 dette er hvor mange ganger jeg halverte: 32\n"
     ]
    }
   ],
   "source": [
    "def f (x):\n",
    "    return 2*x-6\n",
    "\n",
    "a = float(input(\"x-startverdi\"))\n",
    "b = float(input(\"x-sluttverdi\"))\n",
    "\n",
    "m = (a+b)/2\n",
    "\n",
    "teller = 0\n",
    "tol = 1E-9\n",
    "\n",
    "while abs(f(m))> tol: \n",
    "                        #abs()=absoluttverdi\n",
    "                        #helt til f(m)er lik null, altså når y er 0, skjærimg av x-aksen\n",
    "    if f(a)*f(m)<0:\n",
    "        b=m\n",
    "    if f(b)*f(m)<0:\n",
    "        a=m\n",
    "    m = (a+b)/2\n",
    "    teller = teller +1\n",
    "print(\"liknings løsning/x verdien når graf skjærer av x-aksen er:\",m, \"dette er hvor mange ganger jeg halverte:\", teller )"
   ]
  },
  {
   "cell_type": "markdown",
   "metadata": {},
   "source": [
    "## alt i en funksjon:\n"
   ]
  },
  {
   "cell_type": "code",
   "execution_count": 1,
   "metadata": {},
   "outputs": [
    {
     "name": "stdout",
     "output_type": "stream",
     "text": [
      "Nullpunktet var: 2.9999999998835847 og løkka kjørte 32 antall ganger\n"
     ]
    }
   ],
   "source": [
    "def f (x):\n",
    "    return 2*x-6\n",
    "\n",
    "#a = float(input(\"x-startverdi\"))\n",
    "#b = float(input(\"x-sluttverdi\"))\n",
    "\n",
    "def halveringsmetoden (a,b,m):\n",
    "    m = (a+b)/2\n",
    "\n",
    "    teller = 0\n",
    "    tol = 1E-9\n",
    "\n",
    "    while abs(f(m))> tol: \n",
    "                            #abs()=absoluttverdi\n",
    "                            #helt til f(m)er lik null, altså når y er 0, skjærimg av x-aksen\n",
    "        if f(a)*f(m)<0:\n",
    "            b=m\n",
    "        if f(b)*f(m)<0:\n",
    "            a=m\n",
    "        m = (a+b)/2\n",
    "        teller = teller +1\n",
    "        \n",
    "    return m,teller\n",
    "    \n",
    "nullpunkt, antall = halveringsmetoden(-5,10,f)\n",
    "print(\"Nullpunktet var:\", nullpunkt, \"og løkka kjørte\", antall,\"antall ganger\")\n",
    "#print (halveringsmetoden(a,b,m))     \n",
    "#print(\"liknings løsning/x verdien når graf skjærer av x-aksen er:\",m, \"dette er hvor mange ganger jeg halverte:\", teller )"
   ]
  },
  {
   "cell_type": "markdown",
   "metadata": {},
   "source": [
    "# Newtons metode\n",
    "\n",
    "$x_{n+1} = x_n - \\frac{f(x_n}{f'(x_n)}$\n",
    "\n",
    "i newtons metode bruker man den deriverte av grafen i funksjonen og et utvalgt punkt( som man tenker kan være nærme et nullpunkt. Man finner når tangenten skjærer i x-aksen og  tar y-verdien i dette punktet som nytt utvalgt punkt. man repiterer prosessen så mange ganger som er ønsket/nødvendig. \n",
    "\n",
    "metoden blir raskere nærmere nullpunktet enn Halveringsmetoden "
   ]
  },
  {
   "cell_type": "code",
   "execution_count": 3,
   "metadata": {},
   "outputs": [
    {
     "name": "stdout",
     "output_type": "stream",
     "text": [
      "nullpunkt: 2.000000000026214 løkkerunder: 4\n"
     ]
    }
   ],
   "source": [
    "def f(x):\n",
    "    return x**2-4\n",
    "\n",
    "def fder(x):\n",
    "    return 2*x\n",
    "\n",
    "def newton (x,f, fder, tol=1E-8, løkker = 100):\n",
    "    løkker = 0 \n",
    "    while abs(f(x))> tol and løkker < 100:\n",
    "        x=x - f(x)/fder(x)\n",
    "        løkker+=1\n",
    "    return x,løkker\n",
    "    \n",
    "\n",
    "nullpunkt, antall = newton(3,f,fder)\n",
    "\n",
    "print ('nullpunkt:', nullpunkt,'løkkerunder:', antall)"
   ]
  },
  {
   "cell_type": "markdown",
   "metadata": {},
   "source": [
    "# Skyte VISMA med (hjemmelagd) kanon\n",
    "\n",
    "## - Et forsøk og en sammenlikning\n",
    "\n",
    "av Camilla Løfsgaard \n",
    "\n"
   ]
  },
  {
   "cell_type": "code",
   "execution_count": 6,
   "metadata": {},
   "outputs": [
    {
     "name": "stdout",
     "output_type": "stream",
     "text": [
      "┌───────────────────┬────────────────────┬────────────────────┐\n",
      "│ vinkel            │ tid                │ avstand            │\n",
      "├───────────────────┼────────────────────┼────────────────────┤\n",
      "│              60.0 │ 0.9433835893356999 │ 2.3584589733392503 │\n",
      "├───────────────────┼────────────────────┼────────────────────┤\n",
      "│              45.0 │ 0.7702701513754349 │ 2.7233162369157924 │\n",
      "├───────────────────┼────────────────────┼────────────────────┤\n",
      "│              36.0 │ 0.6402910457915653 │   2.59003168695742 │\n",
      "├───────────────────┼────────────────────┼────────────────────┤\n",
      "│              30.0 │ 0.5446654368523571 │ 2.3584705243874513 │\n",
      "├───────────────────┼────────────────────┼────────────────────┤\n",
      "│ 25.71428571428571 │ 0.4726446630965573 │ 2.1291906351511276 │\n",
      "├───────────────────┼────────────────────┼────────────────────┤\n",
      "│              22.5 │ 0.4168672089651243 │ 1.9256754106899197 │\n",
      "├───────────────────┼────────────────────┼────────────────────┤\n",
      "│              20.0 │ 0.3725719140819744 │ 1.7505153918745642 │\n",
      "└───────────────────┴────────────────────┴────────────────────┘\n"
     ]
    }
   ],
   "source": [
    "from pylab import *\n",
    "   \n",
    "import tabletext # bruker tabletext for tabellen min i output\n",
    "data = [['vinkel','tid','avstand']]\n",
    "\n",
    "for i in range (3,10,1):\n",
    "    def y(t,v0,theta):\n",
    "        g = 9.18\n",
    "        return v0*sin(theta) * t -0.5*g*t**2\n",
    "\n",
    "    def yder (t,v0,theta):\n",
    "        g=9.81\n",
    "        return v0*sin(theta) - g*t\n",
    "    \n",
    "    def x (t,v0, theta):\n",
    "        return v0*cos(theta)*t\n",
    "    \n",
    "    def newtons(f,fder,x,v0,theta,tol=1E-5,N=100):\n",
    "        i = 0\n",
    "        while abs(f(x,v0,theta))>tol and i <= 100:\n",
    "            x = x-f(x,v0,theta)/fder(x,v0,theta)\n",
    "            i = i+1\n",
    "        return x\n",
    "    \n",
    "    v0 = 5\n",
    "    vinkel = pi / i\n",
    "    \n",
    "    tid = newtons(y,yder,10,v0,vinkel)\n",
    "    avstand = x(tid,v0,vinkel)\n",
    "    \n",
    "    data.append([vinkel/pi*180,tid,avstand])\n",
    " \n",
    "   # print(\"vinkel\", degrees(pi/i),\"tid:\",tid,\"avstand:\",avstand)\n",
    "    \n",
    "print (tabletext.to_text(data))"
   ]
  },
  {
   "cell_type": "markdown",
   "metadata": {},
   "source": [
    "### Vi fikk resultatet: \n",
    "\n",
    "tid     = 0.9 s\n",
    "\n",
    "avstand = 2.52 m \n",
    "\n",
    "fart    = 4.62 m/s\n",
    "\n",
    "### for vinkelen : 45 grader \n",
    "\n",
    "\n",
    "Dette resultatet lignet på det vi målte for 45 grader i programmet vårt. I programmet vårt skulle en vinkel på 45 grader gi en avstand på 2,72 m, at avstanden har blitt litt mindre i førsøket kan grunnes luftmotstans eller svikt i de hjemmelagde kanonene(som ville gitt en mindre startfart).   "
   ]
  },
  {
   "cell_type": "code",
   "execution_count": null,
   "metadata": {},
   "outputs": [],
   "source": []
  }
 ],
 "metadata": {
  "kernelspec": {
   "display_name": "Python 3",
   "language": "python",
   "name": "python3"
  },
  "language_info": {
   "codemirror_mode": {
    "name": "ipython",
    "version": 3
   },
   "file_extension": ".py",
   "mimetype": "text/x-python",
   "name": "python",
   "nbconvert_exporter": "python",
   "pygments_lexer": "ipython3",
   "version": "3.7.3"
  }
 },
 "nbformat": 4,
 "nbformat_minor": 2
}
